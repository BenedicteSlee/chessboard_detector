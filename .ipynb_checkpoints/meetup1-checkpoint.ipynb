{
 "metadata": {
  "name": "",
  "signature": "sha256:b8c57ccad7f72cd4ca60a3ae2b767835d11a98768388ae922607453f0c16c0ac"
 },
 "nbformat": 3,
 "nbformat_minor": 0,
 "worksheets": []
}